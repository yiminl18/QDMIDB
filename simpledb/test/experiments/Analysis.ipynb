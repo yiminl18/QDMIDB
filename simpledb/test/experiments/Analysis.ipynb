{
 "cells": [
  {
   "cell_type": "code",
   "execution_count": 1,
   "metadata": {
    "collapsed": false
   },
   "outputs": [
    {
     "data": {
      "application/javascript": [
       "IPython.notebook.set_autosave_interval(0)"
      ]
     },
     "metadata": {},
     "output_type": "display_data"
    },
    {
     "name": "stdout",
     "output_type": "stream",
     "text": [
      "Autosave disabled\n"
     ]
    }
   ],
   "source": [
    "%autosave 0\n",
    "import os\n",
    "import pandas as pd\n",
    "import numpy as np"
   ]
  },
  {
   "cell_type": "code",
   "execution_count": 12,
   "metadata": {
    "collapsed": false
   },
   "outputs": [],
   "source": [
    "import seaborn as sns\n",
    "import matplotlib\n",
    "import matplotlib.pyplot as plt\n",
    "%matplotlib inline\n",
    "plt.style.use(['seaborn-white', 'seaborn-paper'])\n",
    "matplotlib.rc(\"font\",size=22)"
   ]
  },
  {
   "cell_type": "code",
   "execution_count": 3,
   "metadata": {
    "collapsed": false
   },
   "outputs": [
    {
     "data": {
      "text/plain": [
       "['counts_mean.tex',\n",
       " 'counts_mean_pct.tex',\n",
       " 'counts_std.tex',\n",
       " 'perf_summary.tex',\n",
       " 'planning_times_base_tables.csv',\n",
       " 'planning_times_imputedb.csv',\n",
       " 'running_times_base_tables.csv',\n",
       " 'running_times_base_tables_1.csv',\n",
       " 'running_times_imputedb.csv',\n",
       " 'running_times_imputedb_1.csv']"
      ]
     },
     "execution_count": 3,
     "metadata": {},
     "output_type": "execute_result"
    }
   ],
   "source": [
    "os.listdir(\"/home/jovyan/work/output/mean/analysis\")"
   ]
  },
  {
   "cell_type": "code",
   "execution_count": 4,
   "metadata": {
    "collapsed": false
   },
   "outputs": [],
   "source": [
    "# Load data\n",
    "def load_data(kind, name, subdir=\"\"):\n",
    "    df = pd.read_csv(os.path.join(\"/home/jovyan/work/output\", subdir, \"{}_{}_1.csv\".format(kind, name)), index_col=0)\n",
    "    return df\n",
    "\n",
    "nqueries = 9\n",
    "times = {}\n",
    "for method in [\"mean\", \"hot_deck\", \"regression_tree\"]:\n",
    "    subdir = os.path.join(method, \"analysis\")\n",
    "    times[method] = {}\n",
    "    for scale in [\"imputedb\", \"base_tables\"]:\n",
    "        times[method][scale] = load_data(\"running_times\", scale, subdir)\n",
    "        \n",
    "    times[method][\"combined\"] = times[method][\"base_tables\"].append(times[method][\"imputedb\"])"
   ]
  },
  {
   "cell_type": "code",
   "execution_count": 5,
   "metadata": {
    "collapsed": true
   },
   "outputs": [],
   "source": [
    "# Round alpha to nearest 0.05\n",
    "def round_alpha(alpha):\n",
    "    if alpha == \"Impute at base tables\":\n",
    "        return \"Impute at base tables\"\n",
    "        \n",
    "    else:\n",
    "        return round(alpha * 100 / 5) / (100 / 5)\n",
    "    \n",
    "for method in [\"mean\", \"hot_deck\", \"regression_tree\"]:\n",
    "    for scale in [\"imputedb\", \"base_tables\", \"combined\"]:\n",
    "        times[method][scale][\"alpha\"] = times[method][scale][\"alpha\"].apply(round_alpha)"
   ]
  },
  {
   "cell_type": "code",
   "execution_count": 6,
   "metadata": {
    "collapsed": false
   },
   "outputs": [
    {
     "data": {
      "text/html": [
       "<div>\n",
       "<table border=\"1\" class=\"dataframe\">\n",
       "  <thead>\n",
       "    <tr style=\"text-align: right;\">\n",
       "      <th></th>\n",
       "      <th>query</th>\n",
       "      <th>alpha</th>\n",
       "      <th>mean</th>\n",
       "      <th>std</th>\n",
       "    </tr>\n",
       "  </thead>\n",
       "  <tbody>\n",
       "    <tr>\n",
       "      <th>0</th>\n",
       "      <td>0.0</td>\n",
       "      <td>Impute at base tables</td>\n",
       "      <td>24935.606818</td>\n",
       "      <td>5549.724521</td>\n",
       "    </tr>\n",
       "    <tr>\n",
       "      <th>1</th>\n",
       "      <td>1.0</td>\n",
       "      <td>Impute at base tables</td>\n",
       "      <td>6553.513636</td>\n",
       "      <td>50.731587</td>\n",
       "    </tr>\n",
       "    <tr>\n",
       "      <th>2</th>\n",
       "      <td>2.0</td>\n",
       "      <td>Impute at base tables</td>\n",
       "      <td>10650.927273</td>\n",
       "      <td>49.561771</td>\n",
       "    </tr>\n",
       "    <tr>\n",
       "      <th>3</th>\n",
       "      <td>3.0</td>\n",
       "      <td>Impute at base tables</td>\n",
       "      <td>10652.572727</td>\n",
       "      <td>58.008496</td>\n",
       "    </tr>\n",
       "    <tr>\n",
       "      <th>4</th>\n",
       "      <td>4.0</td>\n",
       "      <td>Impute at base tables</td>\n",
       "      <td>10646.022727</td>\n",
       "      <td>51.340162</td>\n",
       "    </tr>\n",
       "  </tbody>\n",
       "</table>\n",
       "</div>"
      ],
      "text/plain": [
       "   query                  alpha          mean          std\n",
       "0    0.0  Impute at base tables  24935.606818  5549.724521\n",
       "1    1.0  Impute at base tables   6553.513636    50.731587\n",
       "2    2.0  Impute at base tables  10650.927273    49.561771\n",
       "3    3.0  Impute at base tables  10652.572727    58.008496\n",
       "4    4.0  Impute at base tables  10646.022727    51.340162"
      ]
     },
     "execution_count": 6,
     "metadata": {},
     "output_type": "execute_result"
    }
   ],
   "source": [
    "times[\"regression_tree\"][\"base_tables\"].head()"
   ]
  },
  {
   "cell_type": "code",
   "execution_count": 7,
   "metadata": {
    "collapsed": false
   },
   "outputs": [
    {
     "data": {
      "text/html": [
       "<div>\n",
       "<table border=\"1\" class=\"dataframe\">\n",
       "  <thead>\n",
       "    <tr style=\"text-align: right;\">\n",
       "      <th></th>\n",
       "      <th>query</th>\n",
       "      <th>alpha</th>\n",
       "      <th>mean</th>\n",
       "      <th>std</th>\n",
       "    </tr>\n",
       "  </thead>\n",
       "  <tbody>\n",
       "    <tr>\n",
       "      <th>0</th>\n",
       "      <td>0.0</td>\n",
       "      <td>0.0</td>\n",
       "      <td>708.127273</td>\n",
       "      <td>312.209595</td>\n",
       "    </tr>\n",
       "    <tr>\n",
       "      <th>1</th>\n",
       "      <td>0.0</td>\n",
       "      <td>0.5</td>\n",
       "      <td>324.595455</td>\n",
       "      <td>150.178299</td>\n",
       "    </tr>\n",
       "    <tr>\n",
       "      <th>2</th>\n",
       "      <td>0.0</td>\n",
       "      <td>1.0</td>\n",
       "      <td>18.636364</td>\n",
       "      <td>5.430828</td>\n",
       "    </tr>\n",
       "    <tr>\n",
       "      <th>3</th>\n",
       "      <td>1.0</td>\n",
       "      <td>0.0</td>\n",
       "      <td>556.231818</td>\n",
       "      <td>11.419997</td>\n",
       "    </tr>\n",
       "    <tr>\n",
       "      <th>4</th>\n",
       "      <td>1.0</td>\n",
       "      <td>0.5</td>\n",
       "      <td>94.227273</td>\n",
       "      <td>2.738726</td>\n",
       "    </tr>\n",
       "  </tbody>\n",
       "</table>\n",
       "</div>"
      ],
      "text/plain": [
       "   query  alpha        mean         std\n",
       "0    0.0    0.0  708.127273  312.209595\n",
       "1    0.0    0.5  324.595455  150.178299\n",
       "2    0.0    1.0   18.636364    5.430828\n",
       "3    1.0    0.0  556.231818   11.419997\n",
       "4    1.0    0.5   94.227273    2.738726"
      ]
     },
     "execution_count": 7,
     "metadata": {},
     "output_type": "execute_result"
    }
   ],
   "source": [
    "times[\"regression_tree\"][\"imputedb\"].head()"
   ]
  },
  {
   "cell_type": "code",
   "execution_count": 30,
   "metadata": {
    "collapsed": false
   },
   "outputs": [],
   "source": [
    "def plot(times, method):\n",
    "    df = times[method][\"combined\"].copy()\n",
    "    kind = \"running_times\"\n",
    "    name = \"combined\"\n",
    "    \n",
    "    # plots\n",
    "    xticks = range(0, nqueries)\n",
    "    xlabels = [\"%i\" % (q + 1) for q in xticks]\n",
    "    \n",
    "    f = plt.figure()\n",
    "\n",
    "    df = df.pivot(index=\"query\",columns=\"alpha\",values=\"mean\")\n",
    "    df = df[[\"Impute at base tables\",0.0,0.5,1.0]]\n",
    "    df = df.rename(\n",
    "        columns={0.0: r\"$\\alpha = 0.0$\", 0.5: r\"$\\alpha = 0.5$\",\n",
    "                 1.0: r\"$\\alpha=1.0$\", \"Impute at base tables\" : \"Baseline\"})\n",
    "    ax = df.plot(kind=\"bar\")\n",
    "    ax.set_yscale(\"log\")\n",
    "    ax.set_ylim(bottom=0.99, top=10e5-0.1)\n",
    "    ax.legend(title=None,loc=\"upper left\", fontsize=14, ncol=2)\n",
    "    ax.title.set_fontsize(16)\n",
    "\n",
    "    xticks = range(0, len(df))\n",
    "    xlabels = [\"%i\" % (q + 1) for q in xticks]\n",
    "    plt.xlim(xticks[0] - 1, xticks[-1] + 1)\n",
    "    plt.xticks(xticks, xlabels,rotation=0)\n",
    "\n",
    "    plt.xlabel('Query')\n",
    "    plt.ylabel(\"Running Time (ms)\")\n",
    "\n",
    "    for item in ([ax.xaxis.label, ax.yaxis.label] +\n",
    "                 ax.get_xticklabels() + ax.get_yticklabels()):\n",
    "        item.set_fontsize(12)\n",
    "\n",
    "    plt.savefig(os.path.join(\"/home/jovyan/work/output/{}\".format(method), '{}_{}_bar_{}.png'.format(kind, name, method)),bbox_inches='tight')\n",
    "    df.to_csv(os.path.join(\"/home/jovyan/work/output/{}\".format(method),'{}_{}_bar_{}.csv'.format(kind, name, method)))\n",
    "    \n",
    "    return f"
   ]
  },
  {
   "cell_type": "code",
   "execution_count": 26,
   "metadata": {
    "collapsed": false
   },
   "outputs": [
    {
     "data": {
      "text/plain": [
       "<matplotlib.figure.Figure at 0x7ffb0d3a93c8>"
      ]
     },
     "metadata": {},
     "output_type": "display_data"
    },
    {
     "data": {
      "image/png": "[encoded data removed]",
      "text/plain": [
       "<matplotlib.figure.Figure at 0x7ffb0d3c9940>"
      ]
     },
     "metadata": {},
     "output_type": "display_data"
    }
   ],
   "source": [
    "f = plot(times, \"regression_tree\")"
   ]
  },
  {
   "cell_type": "code",
   "execution_count": 27,
   "metadata": {
    "collapsed": false
   },
   "outputs": [
    {
     "data": {
      "text/plain": [
       "<matplotlib.figure.Figure at 0x7ffb0a956908>"
      ]
     },
     "metadata": {},
     "output_type": "display_data"
    },
    {
     "data": {
      "image/png": "[encoded data removed]",
      "text/plain": [
       "<matplotlib.figure.Figure at 0x7ffb0d390ef0>"
      ]
     },
     "metadata": {},
     "output_type": "display_data"
    }
   ],
   "source": [
    "f = plot(times, \"mean\")"
   ]
  },
  {
   "cell_type": "code",
   "execution_count": 29,
   "metadata": {
    "collapsed": false
   },
   "outputs": [
    {
     "data": {
      "text/plain": [
       "<matplotlib.figure.Figure at 0x7ffb0a86c198>"
      ]
     },
     "metadata": {},
     "output_type": "display_data"
    },
    {
     "data": {
      "image/png": "[encoded data removed]",
      "text/plain": [
       "<matplotlib.figure.Figure at 0x7ffb0ab38e48>"
      ]
     },
     "metadata": {},
     "output_type": "display_data"
    }
   ],
   "source": [
    "f = plot(times, \"hot_deck\")"
   ]
  },
  {
   "cell_type": "code",
   "execution_count": null,
   "metadata": {
    "collapsed": true
   },
   "outputs": [],
   "source": []
  }
 ],
 "metadata": {
  "kernelspec": {
   "display_name": "Python 3",
   "language": "python",
   "name": "python3"
  },
  "language_info": {
   "codemirror_mode": {
    "name": "ipython",
    "version": 3
   },
   "file_extension": ".py",
   "mimetype": "text/x-python",
   "name": "python",
   "nbconvert_exporter": "python",
   "pygments_lexer": "ipython3",
   "version": "3.5.2"
  }
 },
 "nbformat": 4,
 "nbformat_minor": 2
}
